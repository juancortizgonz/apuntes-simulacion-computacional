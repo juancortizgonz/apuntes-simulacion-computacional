{
 "cells": [
  {
   "metadata": {},
   "cell_type": "markdown",
   "source": [
    "# Interpolación numérica\n",
    "\n",
    "## ¿Qué es la interpolación numérica?\n",
    "\n",
    "La interpolación numérica es un método utilizado para estimar o \"interpolar\" valores de una función en puntos intermedios, basándose en un conjunto de datos discretos conocidos. Es útil cuando no tenemos la expresión matemática exacta de la función, pero sí un conjunto de valores en puntos específicos.\n",
    "\n",
    "La interpolación numérica en general sigue estos pasos:\n",
    "\n",
    "1. **Datos de entrada:** Se tiene un conjunto de puntos $(x_1, y_1), (x_2, y_2), ..., (x_n, y_n)$, donde $y_i=f(x_i)$ es el valor de la función en el punto $x_i$.\n",
    "2. **Objetivo:**: Se busca estimar el valor $y=f(x)$ para un $x$ intermedio, es decir, dentro del intervalo de los puntos conocidos.\n",
    "3. **Métodos comunes:**\n",
    "    - **Interpolación lineal:** Estima $y$ usando una línea recta entre dos puntos adyacentes.\n",
    "    - **Interpolación polinómica:** Utiliza un polinomio que pasa exactamente por todos los puntos dados.\n",
    "    - **Spline cúbico:** Usa una serie de polinomios de grado 3 (cúbicos) para conectar los puntos de manera suave.\n",
    "4. **Resultado:** Un valor aproximado de la función $f(x)$ para el punto $x$ deseado, calculado según el método elegido."
   ],
   "id": "4567fb818762df85"
  }
 ],
 "metadata": {
  "kernelspec": {
   "display_name": "Python 3",
   "language": "python",
   "name": "python3"
  },
  "language_info": {
   "codemirror_mode": {
    "name": "ipython",
    "version": 2
   },
   "file_extension": ".py",
   "mimetype": "text/x-python",
   "name": "python",
   "nbconvert_exporter": "python",
   "pygments_lexer": "ipython2",
   "version": "2.7.6"
  }
 },
 "nbformat": 4,
 "nbformat_minor": 5
}
